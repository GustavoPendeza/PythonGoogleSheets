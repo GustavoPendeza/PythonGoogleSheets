{
 "cells": [
  {
   "cell_type": "markdown",
   "id": "bad6810a",
   "metadata": {},
   "source": [
    "# Projeto Google Sheets\n",
    "\n",
    "### Objetivo do projeto:\n",
    "\n",
    "- Utilizar os dados de uma planilha do Google Sheets (https://docs.google.com/spreadsheets/d/1DYO-AjAZFki21a1ds-E4AKVCPIUoMKA98wneGYCeluk/edit?usp=sharing);\n",
    "- Automatizar a atualização do status dessa planilha;\n",
    "- Automatizar o envio de e-mail para as pessoas em que o status for atualizado.\n",
    "\n",
    "### Contexto da planilha:\n",
    "\n",
    "- Exemplo de dados cadastrados em alguma plataforma de vendas online;\n",
    "- Onde a coluna de \"Problemas\" seria organizada por tipos de problemas para facilitar a automação do status.\n",
    "\n",
    "### Para utilizar o Projeto\n",
    "\n",
    "- Copie e atualize os e-mails da planilha de exemplo para e-mails que você use para realizar o teste;\n",
    "- Utilize sua conta do gmail na função abaixo para poder enviar os e-mails;\n",
    "- Opcional: Mude o nome no final do texto do e-mail.\n",
    "\n",
    "### Crie um Projeto no Google Cloud utilizando a API do Google Sheets\n",
    "\n",
    "- API Google Sheets: https://developers.google.com/sheets/api/guides/concepts\n",
    "- Criar projeto Google Cloud: https://developers.google.com/workspace/guides/create-project\n",
    "\n",
    "\n",
    "- Tenha os arquivos 'credentials.json' e 'token.json'.\n",
    "\n",
    "\n",
    "### Instaladores\n",
    "\n",
    "- pip install yagmail\n",
    "- pip install google-api-python-client\n",
    "- pip install google_auth_oauthlib"
   ]
  },
  {
   "cell_type": "markdown",
   "id": "d5326ece",
   "metadata": {},
   "source": [
    "### Função de envio de email"
   ]
  },
  {
   "cell_type": "code",
   "execution_count": 15,
   "id": "a99a4d51",
   "metadata": {},
   "outputs": [],
   "source": [
    "import yagmail\n",
    "\n",
    "usuario = yagmail.SMTP(user='seuemail@gmail.com', password='suasenha')\n",
    "\n",
    "def enviar_email(dados, mensagem):\n",
    "    corpo_email = [\n",
    "        'Olá {}, tudo bem?'.format(lista[0]),\n",
    "        '{}'.format(mensagem),\n",
    "        'Att.,',\n",
    "        'Seu Nome'\n",
    "    ]\n",
    "    corpo_email = '\\n'.join(corpo_email)\n",
    "\n",
    "    usuario.send(to='{}'.format(lista[1]), subject='Status da sua compra: {}'.format(lista[2]), contents=corpo_email)"
   ]
  },
  {
   "cell_type": "markdown",
   "id": "94f0f3ce",
   "metadata": {},
   "source": [
    "### Função de adicionar status no Google Sheets"
   ]
  },
  {
   "cell_type": "code",
   "execution_count": 11,
   "id": "55d728ad",
   "metadata": {},
   "outputs": [],
   "source": [
    "def adiciona_status(local):\n",
    "    result = service.spreadsheets().values().update(\n",
    "                spreadsheetId=SAMPLE_SPREADSHEET_ID,\n",
    "                range=f\"Página1!D{linha}\",\n",
    "                valueInputOption=\"USER_ENTERED\", body=body).execute()"
   ]
  },
  {
   "cell_type": "markdown",
   "id": "e9ccbe50",
   "metadata": {},
   "source": [
    "### Fazendo conexão com a planilha do Google Sheets"
   ]
  },
  {
   "cell_type": "code",
   "execution_count": 7,
   "id": "dc9789ce",
   "metadata": {},
   "outputs": [
    {
     "name": "stdout",
     "output_type": "stream",
     "text": [
      "Conexão Bem sucedida\n"
     ]
    }
   ],
   "source": [
    "from __future__ import print_function\n",
    "import os.path\n",
    "from googleapiclient.discovery import build\n",
    "from google_auth_oauthlib.flow import InstalledAppFlow\n",
    "from google.auth.transport.requests import Request\n",
    "from google.oauth2.credentials import Credentials\n",
    "\n",
    "SCOPES = ['https://www.googleapis.com/auth/spreadsheets']\n",
    "\n",
    "# ID da planilha\n",
    "SAMPLE_SPREADSHEET_ID = '1DYO-AjAZFki21a1ds-E4AKVCPIUoMKA98wneGYCeluk'\n",
    "# Página e os dados que deve usar\n",
    "SAMPLE_RANGE_NAME = 'Página1!A2:D9'\n",
    "\n",
    "creds = None\n",
    "# The file token.json stores the user's access and refresh tokens, and is\n",
    "# created automatically when the authorization flow completes for the first\n",
    "# time.\n",
    "if os.path.exists('token.json'):\n",
    "    creds = Credentials.from_authorized_user_file('token.json', SCOPES)\n",
    "# If there are no (valid) credentials available, let the user log in.\n",
    "if not creds or not creds.valid:\n",
    "    if creds and creds.expired and creds.refresh_token:\n",
    "        creds.refresh(Request())\n",
    "    else:\n",
    "        flow = InstalledAppFlow.from_client_secrets_file(\n",
    "            'credentials.json', SCOPES)\n",
    "        creds = flow.run_local_server(port=0)\n",
    "    # Save the credentials for the next run\n",
    "    with open('token.json', 'w') as token:\n",
    "        token.write(creds.to_json())\n",
    "\n",
    "service = build('sheets', 'v4', credentials=creds)\n",
    "\n",
    "# Call the Sheets API\n",
    "sheet = service.spreadsheets()\n",
    "result = sheet.values().get(spreadsheetId=SAMPLE_SPREADSHEET_ID, range=SAMPLE_RANGE_NAME).execute()\n",
    "values = result.get('values', [])\n",
    "\n",
    "if not values:\n",
    "    print('No data found.')\n",
    "else:\n",
    "    print(\"Conexão Bem sucedida\")"
   ]
  },
  {
   "cell_type": "markdown",
   "id": "645c15de",
   "metadata": {},
   "source": [
    "### Preenchendo Status da planilha e enviando e-mails"
   ]
  },
  {
   "cell_type": "code",
   "execution_count": 13,
   "id": "cae3d06e",
   "metadata": {},
   "outputs": [],
   "source": [
    "# Passo 1: Ler o intervalo de células\n",
    "result = sheet.values().get(spreadsheetId=SAMPLE_SPREADSHEET_ID,\n",
    "                            range=SAMPLE_RANGE_NAME).execute()\n",
    "values = result.get('values', [])\n",
    "\n",
    "# Passo 2: Verificar se o status está preenchido\n",
    "linha = 2\n",
    "for lista in values:\n",
    "    # Passo 3: Se o status não estiver preenchido, verificar o 'Problema'\n",
    "    if len(lista) < 4:\n",
    "        # Passo 4: Enviar Mensagem e registrar novo status\n",
    "        if lista[2] == \"Boleto Gerado\":\n",
    "            # Enviando e-mail \n",
    "            enviar_email(lista, 'O boleto de sua compra já foi gerado!')\n",
    "            \n",
    "            # preencher a coluna 'Status' com \"Mensagem do Boleto enviada\"\n",
    "            values = [\n",
    "                [\n",
    "                    \"Mensagem do Boleto enviada\"\n",
    "                ],\n",
    "            ]\n",
    "            body = {\n",
    "                'values': values\n",
    "            }\n",
    "            adiciona_status(lista)\n",
    "\n",
    "\n",
    "        elif lista[2] == \"Comprou\":\n",
    "            # Enviando email \n",
    "            enviar_email(lista, 'Sua compra já foi finalizada!')\n",
    "            \n",
    "            # preencher a coluna 'Status' com \"Compra Finalizada\"\n",
    "            values = [\n",
    "                [\n",
    "                    \"Compra Finalizada\"\n",
    "                ],\n",
    "            ]\n",
    "            body = {\n",
    "                'values': values\n",
    "            }\n",
    "            adiciona_status(lista)\n",
    "\n",
    "        elif lista[2] == \"Sem Saldo\":\n",
    "            # Enviando email \n",
    "            enviar_email(lista, 'Não foi possível efetuar sua compra: Sem Saldo!')\n",
    "            \n",
    "            # preencher a coluna 'Status' com \"Mensagem Sem Saldo enviada\"\n",
    "            values = [\n",
    "                [\n",
    "                    \"Mensagem Sem Saldo enviada\"\n",
    "                ],\n",
    "            ]\n",
    "            body = {\n",
    "                'values': values\n",
    "            }\n",
    "            adiciona_status(lista)\n",
    "\n",
    "    linha += 1"
   ]
  }
 ],
 "metadata": {
  "kernelspec": {
   "display_name": "Python 3 (ipykernel)",
   "language": "python",
   "name": "python3"
  },
  "language_info": {
   "codemirror_mode": {
    "name": "ipython",
    "version": 3
   },
   "file_extension": ".py",
   "mimetype": "text/x-python",
   "name": "python",
   "nbconvert_exporter": "python",
   "pygments_lexer": "ipython3",
   "version": "3.9.7"
  }
 },
 "nbformat": 4,
 "nbformat_minor": 5
}
